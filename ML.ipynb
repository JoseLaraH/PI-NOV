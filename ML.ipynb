{
 "cells": [
  {
   "cell_type": "markdown",
   "metadata": {},
   "source": [
    "# Sistema de Recomendación Basado en Palabras Clave\n",
    "\n",
    "Este sistema de recomendación utiliza una selección de palabras clave para identificar similitudes entre películas y generar recomendaciones. En lugar de analizar todo el contenido de las películas, el sistema se basa únicamente en una lista específica de palabras clave para optimizar el rendimiento.\n",
    "\n",
    "## Palabras Clave Seleccionadas\n",
    "\n",
    "Las palabras clave seleccionadas representan temas y conceptos comunes en títulos de películas que podrían ser útiles para el sistema de recomendación. Estas palabras clave son:\n",
    "\n",
    "- **Night**, **Day**, **Love**, **Man**, **Girl**, **Last**, **Movie**, **Time**, **World**"
   ]
  },
  {
   "cell_type": "code",
   "execution_count": null,
   "metadata": {},
   "outputs": [],
   "source": [
    "import pandas as pd\n",
    "from sklearn.feature_extraction.text import TfidfVectorizer\n",
    "from sklearn.metrics.pairwise import cosine_similarity\n",
    "import json\n",
    "\n",
    "# Cargar los datos\n",
    "movies_df = pd.read_csv('final_data/optimized_movies.csv')\n",
    "\n",
    "# Lista de palabras clave\n",
    "keywords = [\"Night\", \"Day\", \"Love\", \"Man\", \"Girl\", \"Last\", \"Movie\", \"Time\", \"World\"]\n",
    "\n",
    "# Función para filtrar solo las palabras clave en una cadena de texto\n",
    "def filter_keywords(text, keywords):\n",
    "    words = text.split()\n",
    "    return ' '.join([word for word in words if word in keywords])\n",
    "\n",
    "# Crear la columna 'content' con palabras clave en título, géneros y descripción\n",
    "movies_df['content'] = (\n",
    "    movies_df['title'].fillna('') + \" \" + \n",
    "    movies_df['genres_names'].fillna('') + \" \" + \n",
    "    movies_df['overview'].fillna('')\n",
    ").apply(lambda x: filter_keywords(x, keywords))\n",
    "\n",
    "# Rellenar valores NaN en la columna 'content' con cadenas vacías\n",
    "movies_df['content'] = movies_df['content'].fillna('')\n",
    "\n",
    "# Vectorización TF-IDF basada en las palabras clave\n",
    "tfidf = TfidfVectorizer(stop_words='english')\n",
    "tfidf_matrix = tfidf.fit_transform(movies_df['content'])\n",
    "\n",
    "# Cálculo de la similitud de coseno\n",
    "cosine_sim = cosine_similarity(tfidf_matrix, tfidf_matrix)\n",
    "\n",
    "# Crear recomendaciones\n",
    "recommendations = {}\n",
    "for idx, title in enumerate(movies_df['title']):\n",
    "    sim_scores = list(enumerate(cosine_sim[idx]))\n",
    "    sim_scores = sorted(sim_scores, key=lambda x: x[1], reverse=True)[1:6]\n",
    "    movie_indices = [i[0] for i in sim_scores]\n",
    "    recommendations[title] = movies_df['title'].iloc[movie_indices].tolist()\n",
    "\n",
    "# Guardar recomendaciones en un archivo JSON en la carpeta final_data\n",
    "with open('final_data/recommendations.json', 'w') as f:\n",
    "    json.dump(recommendations, f)"
   ]
  },
  {
   "cell_type": "code",
   "execution_count": 10,
   "metadata": {},
   "outputs": [
    {
     "name": "stdout",
     "output_type": "stream",
     "text": [
      "Archivo recommendations.json reducido a las primeras 100 películas.\n"
     ]
    }
   ],
   "source": [
    "import json\n",
    "\n",
    "# Cargar el archivo completo de recomendaciones\n",
    "with open('final_data/recommendations.json', 'r') as f:\n",
    "    recommendations = json.load(f)\n",
    "\n",
    "# Limitar a solo las primeras 100 películas\n",
    "reduced_recommendations = dict(list(recommendations.items())[:100])\n",
    "\n",
    "# Guardar el archivo reducido\n",
    "with open('final_data/recommendations.json', 'w') as f:\n",
    "    json.dump(reduced_recommendations, f)\n",
    "\n",
    "print(\"Archivo recommendations.json reducido a las primeras 100 películas.\")"
   ]
  },
  {
   "cell_type": "code",
   "execution_count": 11,
   "metadata": {},
   "outputs": [
    {
     "name": "stdout",
     "output_type": "stream",
     "text": [
      "Archivo recommendations.csv creado exitosamente.\n"
     ]
    }
   ],
   "source": [
    "import json\n",
    "import csv\n",
    "\n",
    "# Cargar el archivo JSON de recomendaciones\n",
    "with open('final_data/recommendations.json', 'r') as f:\n",
    "    recommendations = json.load(f)\n",
    "\n",
    "# Convertir a CSV\n",
    "with open('final_data/recommendations.csv', 'w', newline='', encoding='utf-8') as csvfile:\n",
    "    writer = csv.writer(csvfile)\n",
    "    # Escribir la cabecera\n",
    "    writer.writerow([\"title\", \"recommendation_1\", \"recommendation_2\", \"recommendation_3\", \"recommendation_4\", \"recommendation_5\"])\n",
    "    \n",
    "    # Escribir cada película y sus recomendaciones en una fila\n",
    "    for title, recs in recommendations.items():\n",
    "        # Asegurarse de que cada fila tiene exactamente 5 recomendaciones (rellenar con None si tiene menos)\n",
    "        row = [title] + recs[:5] + [None] * (5 - len(recs))\n",
    "        writer.writerow(row)\n",
    "\n",
    "print(\"Archivo recommendations.csv creado exitosamente.\")"
   ]
  },
  {
   "cell_type": "markdown",
   "metadata": {},
   "source": [
    "## Ventajas de Este Enfoque\n",
    "\n",
    "- **Optimización de Rendimiento**: Al limitar el análisis a palabras clave específicas, se reduce significativamente la carga de procesamiento y se mejora el tiempo de respuesta.\n",
    "- **Recomendaciones Relevantes**: Las palabras clave seleccionadas representan conceptos comunes en títulos de películas, lo que permite obtener recomendaciones que podrían ser temáticamente similares.\n",
    "- **Uso de Recursos Reducido**: Guardar las recomendaciones en un archivo JSON permite evitar cálculos intensivos de similitud en cada solicitud, haciendo el sistema más adecuado para entornos con recursos limitados.\n",
    "\n",
    "Este sistema de recomendación optimizado es ideal para servicios en la nube con restricciones de memoria y potencia de procesamiento, proporcionando recomendaciones relevantes de manera eficiente."
   ]
  }
 ],
 "metadata": {
  "kernelspec": {
   "display_name": "Python 3",
   "language": "python",
   "name": "python3"
  },
  "language_info": {
   "codemirror_mode": {
    "name": "ipython",
    "version": 3
   },
   "file_extension": ".py",
   "mimetype": "text/x-python",
   "name": "python",
   "nbconvert_exporter": "python",
   "pygments_lexer": "ipython3",
   "version": "3.12.2"
  }
 },
 "nbformat": 4,
 "nbformat_minor": 2
}
