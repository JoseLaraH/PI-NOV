{
 "cells": [
  {
   "cell_type": "markdown",
   "metadata": {},
   "source": [
    "## Exploración de campos de los datos\n",
    "\n",
    "En este paso, cargaremos los archivos `credits.csv` y `movies_metadata.csv` (o cualquier otro nombre que tengan) y exploraremos los nombres de las columnas para identificar en qué archivo se encuentra cada campo.\n"
   ]
  },
  {
   "cell_type": "code",
   "execution_count": 5,
   "metadata": {},
   "outputs": [
    {
     "name": "stderr",
     "output_type": "stream",
     "text": [
      "C:\\Users\\Jose Lara\\AppData\\Local\\Temp\\ipykernel_17216\\3237471977.py:6: DtypeWarning: Columns (10) have mixed types. Specify dtype option on import or set low_memory=False.\n",
      "  movies_df = pd.read_csv('data/movies_dataset.csv')  # Asegúrate de usar el nombre correcto\n"
     ]
    },
    {
     "name": "stdout",
     "output_type": "stream",
     "text": [
      "cast\n",
      "crew\n",
      "id\n",
      "\n",
      "\n",
      "adult\n",
      "belongs_to_collection\n",
      "budget\n",
      "genres\n",
      "homepage\n",
      "id\n",
      "imdb_id\n",
      "original_language\n",
      "original_title\n",
      "overview\n",
      "popularity\n",
      "poster_path\n",
      "production_companies\n",
      "production_countries\n",
      "release_date\n",
      "revenue\n",
      "runtime\n",
      "spoken_languages\n",
      "status\n",
      "tagline\n",
      "title\n",
      "video\n",
      "vote_average\n",
      "vote_count\n"
     ]
    },
    {
     "name": "stderr",
     "output_type": "stream",
     "text": [
      "C:\\Users\\Jose Lara\\AppData\\Local\\Temp\\ipykernel_17216\\3237471977.py:11: DtypeWarning: Columns (10) have mixed types. Specify dtype option on import or set low_memory=False.\n",
      "  print(*pd.read_csv('data/movies_dataset.csv').columns, sep=\"\\n\")\n"
     ]
    }
   ],
   "source": [
    "import pandas as pd\n",
    "import ast\n",
    "\n",
    "# Cargar ambos archivos para ver sus columnas\n",
    "credits_df = pd.read_csv('final_data/credits_small.csv')\n",
    "movies_df = pd.read_csv('data/movies_dataset.csv')  # Asegúrate de usar el nombre correcto\n",
    "\n",
    "# Mostrar los nombres de las columnas\n",
    "print(*pd.read_csv('data/credits.csv').columns, sep=\"\\n\")\n",
    "print(\"\\n\")\n",
    "print(*pd.read_csv('data/movies_dataset.csv').columns, sep=\"\\n\")\n"
   ]
  },
  {
   "cell_type": "markdown",
   "metadata": {},
   "source": [
    "### Primera Transformación\n",
    "\n",
    "A. Desanidar Columnas con Estructura de Diccionario o Lista\n",
    "\n",
    "Paso 1: Desanidar belongs_to_collection"
   ]
  },
  {
   "cell_type": "code",
   "execution_count": 6,
   "metadata": {},
   "outputs": [],
   "source": [
    "# Desanidar `belongs_to_collection` en nuevas columnas\n",
    "movies_df['belongs_to_collection_id'] = movies_df['belongs_to_collection'].apply(\n",
    "    lambda x: ast.literal_eval(x).get('id') if pd.notna(x) and isinstance(x, str) and x.startswith('{') else None\n",
    ")\n",
    "movies_df['belongs_to_collection_name'] = movies_df['belongs_to_collection'].apply(\n",
    "    lambda x: ast.literal_eval(x).get('name') if pd.notna(x) and isinstance(x, str) and x.startswith('{') else None\n",
    ")\n",
    "movies_df['belongs_to_collection_poster_path'] = movies_df['belongs_to_collection'].apply(\n",
    "    lambda x: ast.literal_eval(x).get('poster_path') if pd.notna(x) and isinstance(x, str) and x.startswith('{') else None\n",
    ")\n",
    "movies_df['belongs_to_collection_backdrop_path'] = movies_df['belongs_to_collection'].apply(\n",
    "    lambda x: ast.literal_eval(x).get('backdrop_path') if pd.notna(x) and isinstance(x, str) and x.startswith('{') else None\n",
    ")\n",
    "\n",
    "# Eliminar la columna original\n",
    "movies_df.drop(columns=['belongs_to_collection'], inplace=True)"
   ]
  },
  {
   "cell_type": "markdown",
   "metadata": {},
   "source": [
    "Paso 2: Desanidar genres"
   ]
  },
  {
   "cell_type": "code",
   "execution_count": 7,
   "metadata": {},
   "outputs": [],
   "source": [
    "# Extraer nombres e ids de géneros en listas separadas\n",
    "movies_df['genres_ids'] = movies_df['genres'].apply(\n",
    "    lambda x: [i['id'] for i in ast.literal_eval(x) if isinstance(i, dict)] \n",
    "    if isinstance(x, str) and x.startswith('[') \n",
    "    else []\n",
    ")\n",
    "movies_df['genres_names'] = movies_df['genres'].apply(\n",
    "    lambda x: [i['name'] for i in ast.literal_eval(x) if isinstance(i, dict)] \n",
    "    if isinstance(x, str) and x.startswith('[') \n",
    "    else []\n",
    ")\n",
    "\n",
    "# Eliminar la columna original\n",
    "movies_df.drop(columns=['genres'], inplace=True)"
   ]
  },
  {
   "cell_type": "markdown",
   "metadata": {},
   "source": [
    "Paso 3: Desanidar production_companies"
   ]
  },
  {
   "cell_type": "code",
   "execution_count": 8,
   "metadata": {},
   "outputs": [],
   "source": [
    "# Extraer nombres e ids de compañías en listas separadas\n",
    "movies_df['production_companies_ids'] = movies_df['production_companies'].apply(\n",
    "    lambda x: [i['id'] for i in ast.literal_eval(x) if isinstance(i, dict)] \n",
    "    if isinstance(x, str) and x.startswith('[') \n",
    "    else []\n",
    ")\n",
    "movies_df['production_companies_names'] = movies_df['production_companies'].apply(\n",
    "    lambda x: [i['name'] for i in ast.literal_eval(x) if isinstance(i, dict)] \n",
    "    if isinstance(x, str) and x.startswith('[') \n",
    "    else []\n",
    ")\n",
    "\n",
    "# Eliminar la columna original\n",
    "movies_df.drop(columns=['production_companies'], inplace=True)"
   ]
  },
  {
   "cell_type": "markdown",
   "metadata": {},
   "source": [
    "Paso 4: Desanidar production_countries"
   ]
  },
  {
   "cell_type": "code",
   "execution_count": 9,
   "metadata": {},
   "outputs": [],
   "source": [
    "# Extraer códigos ISO y nombres de países en listas separadas\n",
    "movies_df['production_countries_iso'] = movies_df['production_countries'].apply(\n",
    "    lambda x: [i['iso_3166_1'] for i in ast.literal_eval(x) if isinstance(i, dict)] \n",
    "    if isinstance(x, str) and x.startswith('[') \n",
    "    else []\n",
    ")\n",
    "movies_df['production_countries_names'] = movies_df['production_countries'].apply(\n",
    "    lambda x: [i['name'] for i in ast.literal_eval(x) if isinstance(i, dict)] \n",
    "    if isinstance(x, str) and x.startswith('[') \n",
    "    else []\n",
    ")\n",
    "\n",
    "# Eliminar la columna original\n",
    "movies_df.drop(columns=['production_countries'], inplace=True)"
   ]
  },
  {
   "cell_type": "markdown",
   "metadata": {},
   "source": [
    "Paso 5: Verificación de Resultados"
   ]
  },
  {
   "cell_type": "code",
   "execution_count": 10,
   "metadata": {},
   "outputs": [
    {
     "name": "stdout",
     "output_type": "stream",
     "text": [
      "Index(['adult', 'budget', 'homepage', 'id', 'imdb_id', 'original_language',\n",
      "       'original_title', 'overview', 'popularity', 'poster_path',\n",
      "       'release_date', 'revenue', 'runtime', 'spoken_languages', 'status',\n",
      "       'tagline', 'title', 'video', 'vote_average', 'vote_count',\n",
      "       'belongs_to_collection_id', 'belongs_to_collection_name',\n",
      "       'belongs_to_collection_poster_path',\n",
      "       'belongs_to_collection_backdrop_path', 'genres_ids', 'genres_names',\n",
      "       'production_companies_ids', 'production_companies_names',\n",
      "       'production_countries_iso', 'production_countries_names'],\n",
      "      dtype='object')\n"
     ]
    }
   ],
   "source": [
    "print(movies_df.columns)"
   ]
  },
  {
   "cell_type": "markdown",
   "metadata": {},
   "source": [
    "### Segunda Transformación\n",
    "\n",
    "Rellenar valores nulos en los campos `revenue` y `budget`\n",
    "\n",
    "En este paso, se reemplazarán los valores nulos en los campos `revenue` y `budget` con el número `0`. Esto garantiza que estos campos numéricos no tengan valores faltantes, facilitando su uso en cálculos y análisis posteriores."
   ]
  },
  {
   "cell_type": "code",
   "execution_count": 11,
   "metadata": {},
   "outputs": [
    {
     "name": "stderr",
     "output_type": "stream",
     "text": [
      "C:\\Users\\Jose Lara\\AppData\\Local\\Temp\\ipykernel_17216\\725850694.py:2: FutureWarning: A value is trying to be set on a copy of a DataFrame or Series through chained assignment using an inplace method.\n",
      "The behavior will change in pandas 3.0. This inplace method will never work because the intermediate object on which we are setting values always behaves as a copy.\n",
      "\n",
      "For example, when doing 'df[col].method(value, inplace=True)', try using 'df.method({col: value}, inplace=True)' or df[col] = df[col].method(value) instead, to perform the operation inplace on the original object.\n",
      "\n",
      "\n",
      "  movies_df['revenue'].fillna(0, inplace=True)\n",
      "C:\\Users\\Jose Lara\\AppData\\Local\\Temp\\ipykernel_17216\\725850694.py:3: FutureWarning: A value is trying to be set on a copy of a DataFrame or Series through chained assignment using an inplace method.\n",
      "The behavior will change in pandas 3.0. This inplace method will never work because the intermediate object on which we are setting values always behaves as a copy.\n",
      "\n",
      "For example, when doing 'df[col].method(value, inplace=True)', try using 'df.method({col: value}, inplace=True)' or df[col] = df[col].method(value) instead, to perform the operation inplace on the original object.\n",
      "\n",
      "\n",
      "  movies_df['budget'].fillna(0, inplace=True)\n"
     ]
    }
   ],
   "source": [
    "# Rellenar valores nulos en `revenue` y `budget` con 0\n",
    "movies_df['revenue'].fillna(0, inplace=True)\n",
    "movies_df['budget'].fillna(0, inplace=True)"
   ]
  },
  {
   "cell_type": "markdown",
   "metadata": {},
   "source": [
    "### Tercera Transformación \n",
    "\n",
    "Eliminar valores nulos en el campo `release_date`\n",
    "\n",
    "En este paso, se eliminan todas las filas que tienen un valor nulo en el campo `release_date`. Esto asegura que todas las películas en el conjunto de datos tengan una fecha de lanzamiento, lo cual es importante para análisis basados en fechas."
   ]
  },
  {
   "cell_type": "code",
   "execution_count": 12,
   "metadata": {},
   "outputs": [],
   "source": [
    "# Eliminar filas con valores nulos en el campo `release_date`\n",
    "movies_df.dropna(subset=['release_date'], inplace=True)"
   ]
  },
  {
   "cell_type": "markdown",
   "metadata": {},
   "source": [
    "## Cuarta Transformación\n",
    "\n",
    "Fechas y extraer año de lanzamiento\n",
    "\n",
    "En este paso, las fechas en el campo `release_date` se convierten al formato estándar `AAAA-mm-dd` para una mayor consistencia. Además, se crea una nueva columna llamada `release_year`, que extrae el año de la fecha de estreno, facilitando los análisis que requieran información sobre el año de lanzamiento.\n"
   ]
  },
  {
   "cell_type": "code",
   "execution_count": 13,
   "metadata": {},
   "outputs": [],
   "source": [
    "# Convertir `release_date` al formato AAAA-mm-dd\n",
    "movies_df['release_date'] = pd.to_datetime(movies_df['release_date'], errors='coerce').dt.strftime('%Y-%m-%d')\n",
    "\n",
    "# Crear la columna `release_year` extrayendo el año de `release_date`\n",
    "movies_df['release_year'] = pd.to_datetime(movies_df['release_date'], errors='coerce').dt.year"
   ]
  },
  {
   "cell_type": "code",
   "execution_count": 14,
   "metadata": {},
   "outputs": [
    {
     "data": {
      "text/html": [
       "<div>\n",
       "<style scoped>\n",
       "    .dataframe tbody tr th:only-of-type {\n",
       "        vertical-align: middle;\n",
       "    }\n",
       "\n",
       "    .dataframe tbody tr th {\n",
       "        vertical-align: top;\n",
       "    }\n",
       "\n",
       "    .dataframe thead th {\n",
       "        text-align: right;\n",
       "    }\n",
       "</style>\n",
       "<table border=\"1\" class=\"dataframe\">\n",
       "  <thead>\n",
       "    <tr style=\"text-align: right;\">\n",
       "      <th></th>\n",
       "      <th>release_date</th>\n",
       "      <th>release_year</th>\n",
       "    </tr>\n",
       "  </thead>\n",
       "  <tbody>\n",
       "    <tr>\n",
       "      <th>0</th>\n",
       "      <td>1995-10-30</td>\n",
       "      <td>1995.0</td>\n",
       "    </tr>\n",
       "    <tr>\n",
       "      <th>1</th>\n",
       "      <td>1995-12-15</td>\n",
       "      <td>1995.0</td>\n",
       "    </tr>\n",
       "    <tr>\n",
       "      <th>2</th>\n",
       "      <td>1995-12-22</td>\n",
       "      <td>1995.0</td>\n",
       "    </tr>\n",
       "    <tr>\n",
       "      <th>3</th>\n",
       "      <td>1995-12-22</td>\n",
       "      <td>1995.0</td>\n",
       "    </tr>\n",
       "    <tr>\n",
       "      <th>4</th>\n",
       "      <td>1995-02-10</td>\n",
       "      <td>1995.0</td>\n",
       "    </tr>\n",
       "    <tr>\n",
       "      <th>...</th>\n",
       "      <td>...</td>\n",
       "      <td>...</td>\n",
       "    </tr>\n",
       "    <tr>\n",
       "      <th>45460</th>\n",
       "      <td>1991-05-13</td>\n",
       "      <td>1991.0</td>\n",
       "    </tr>\n",
       "    <tr>\n",
       "      <th>45462</th>\n",
       "      <td>2011-11-17</td>\n",
       "      <td>2011.0</td>\n",
       "    </tr>\n",
       "    <tr>\n",
       "      <th>45463</th>\n",
       "      <td>2003-08-01</td>\n",
       "      <td>2003.0</td>\n",
       "    </tr>\n",
       "    <tr>\n",
       "      <th>45464</th>\n",
       "      <td>1917-10-21</td>\n",
       "      <td>1917.0</td>\n",
       "    </tr>\n",
       "    <tr>\n",
       "      <th>45465</th>\n",
       "      <td>2017-06-09</td>\n",
       "      <td>2017.0</td>\n",
       "    </tr>\n",
       "  </tbody>\n",
       "</table>\n",
       "<p>45379 rows × 2 columns</p>\n",
       "</div>"
      ],
      "text/plain": [
       "      release_date  release_year\n",
       "0       1995-10-30        1995.0\n",
       "1       1995-12-15        1995.0\n",
       "2       1995-12-22        1995.0\n",
       "3       1995-12-22        1995.0\n",
       "4       1995-02-10        1995.0\n",
       "...            ...           ...\n",
       "45460   1991-05-13        1991.0\n",
       "45462   2011-11-17        2011.0\n",
       "45463   2003-08-01        2003.0\n",
       "45464   1917-10-21        1917.0\n",
       "45465   2017-06-09        2017.0\n",
       "\n",
       "[45379 rows x 2 columns]"
      ]
     },
     "execution_count": 14,
     "metadata": {},
     "output_type": "execute_result"
    }
   ],
   "source": [
    "# Ver los primeros valores de las columnas 'release_date', 'release_year' para verificarlos\n",
    "movies_df[['release_date', 'release_year']]"
   ]
  },
  {
   "cell_type": "markdown",
   "metadata": {},
   "source": [
    "## Quinta Transformación\n",
    "\n",
    "Calcular el Retorno de Inversión (ROI)\n",
    "\n",
    "En este paso, se crea una nueva columna llamada `return`, que representa el retorno de inversión de cada película. Este valor se calcula dividiendo el campo `revenue` entre `budget`. Si `budget` es igual a 0, el valor \n"
   ]
  },
  {
   "cell_type": "code",
   "execution_count": 15,
   "metadata": {},
   "outputs": [],
   "source": [
    "# Convertir las columnas `revenue` y `budget` a tipo numérico, reemplazando valores no convertibles por 0\n",
    "movies_df['revenue'] = pd.to_numeric(movies_df['revenue'], errors='coerce').fillna(0)\n",
    "movies_df['budget'] = pd.to_numeric(movies_df['budget'], errors='coerce').fillna(0)\n",
    "\n",
    "# Crear la columna `return` calculando el retorno de inversión (revenue / budget)\n",
    "movies_df['return'] = movies_df.apply(lambda row: row['revenue'] / row['budget'] if row['budget'] != 0 else 0, axis=1)"
   ]
  },
  {
   "cell_type": "code",
   "execution_count": 16,
   "metadata": {},
   "outputs": [
    {
     "data": {
      "text/html": [
       "<div>\n",
       "<style scoped>\n",
       "    .dataframe tbody tr th:only-of-type {\n",
       "        vertical-align: middle;\n",
       "    }\n",
       "\n",
       "    .dataframe tbody tr th {\n",
       "        vertical-align: top;\n",
       "    }\n",
       "\n",
       "    .dataframe thead th {\n",
       "        text-align: right;\n",
       "    }\n",
       "</style>\n",
       "<table border=\"1\" class=\"dataframe\">\n",
       "  <thead>\n",
       "    <tr style=\"text-align: right;\">\n",
       "      <th></th>\n",
       "      <th>revenue</th>\n",
       "      <th>budget</th>\n",
       "      <th>return</th>\n",
       "    </tr>\n",
       "  </thead>\n",
       "  <tbody>\n",
       "    <tr>\n",
       "      <th>0</th>\n",
       "      <td>373554033.0</td>\n",
       "      <td>30000000.0</td>\n",
       "      <td>12.451801</td>\n",
       "    </tr>\n",
       "    <tr>\n",
       "      <th>1</th>\n",
       "      <td>262797249.0</td>\n",
       "      <td>65000000.0</td>\n",
       "      <td>4.043035</td>\n",
       "    </tr>\n",
       "    <tr>\n",
       "      <th>2</th>\n",
       "      <td>0.0</td>\n",
       "      <td>0.0</td>\n",
       "      <td>0.000000</td>\n",
       "    </tr>\n",
       "    <tr>\n",
       "      <th>3</th>\n",
       "      <td>81452156.0</td>\n",
       "      <td>16000000.0</td>\n",
       "      <td>5.090760</td>\n",
       "    </tr>\n",
       "    <tr>\n",
       "      <th>4</th>\n",
       "      <td>76578911.0</td>\n",
       "      <td>0.0</td>\n",
       "      <td>0.000000</td>\n",
       "    </tr>\n",
       "    <tr>\n",
       "      <th>...</th>\n",
       "      <td>...</td>\n",
       "      <td>...</td>\n",
       "      <td>...</td>\n",
       "    </tr>\n",
       "    <tr>\n",
       "      <th>45460</th>\n",
       "      <td>0.0</td>\n",
       "      <td>0.0</td>\n",
       "      <td>0.000000</td>\n",
       "    </tr>\n",
       "    <tr>\n",
       "      <th>45462</th>\n",
       "      <td>0.0</td>\n",
       "      <td>0.0</td>\n",
       "      <td>0.000000</td>\n",
       "    </tr>\n",
       "    <tr>\n",
       "      <th>45463</th>\n",
       "      <td>0.0</td>\n",
       "      <td>0.0</td>\n",
       "      <td>0.000000</td>\n",
       "    </tr>\n",
       "    <tr>\n",
       "      <th>45464</th>\n",
       "      <td>0.0</td>\n",
       "      <td>0.0</td>\n",
       "      <td>0.000000</td>\n",
       "    </tr>\n",
       "    <tr>\n",
       "      <th>45465</th>\n",
       "      <td>0.0</td>\n",
       "      <td>0.0</td>\n",
       "      <td>0.000000</td>\n",
       "    </tr>\n",
       "  </tbody>\n",
       "</table>\n",
       "<p>45379 rows × 3 columns</p>\n",
       "</div>"
      ],
      "text/plain": [
       "           revenue      budget     return\n",
       "0      373554033.0  30000000.0  12.451801\n",
       "1      262797249.0  65000000.0   4.043035\n",
       "2              0.0         0.0   0.000000\n",
       "3       81452156.0  16000000.0   5.090760\n",
       "4       76578911.0         0.0   0.000000\n",
       "...            ...         ...        ...\n",
       "45460          0.0         0.0   0.000000\n",
       "45462          0.0         0.0   0.000000\n",
       "45463          0.0         0.0   0.000000\n",
       "45464          0.0         0.0   0.000000\n",
       "45465          0.0         0.0   0.000000\n",
       "\n",
       "[45379 rows x 3 columns]"
      ]
     },
     "execution_count": 16,
     "metadata": {},
     "output_type": "execute_result"
    }
   ],
   "source": [
    "# Ver los primeros valores de las columnas `revenue`, `budget` y `return` para verificarlos\n",
    "movies_df[['revenue', 'budget', 'return']]"
   ]
  },
  {
   "cell_type": "markdown",
   "metadata": {},
   "source": [
    "## Sexta Transformación\n",
    "\n",
    "Eliminar columnas no utilizadas\n",
    "\n",
    "En este paso, se eliminan las columnas que no serán utilizadas en el análisis: `video`, `imdb_id`, `adult`, `original_title`, `poster_path`, y `homepage`. Esto simplifica el conjunto de datos, manteniendo solo las columnas relevantes para el análisis.\n"
   ]
  },
  {
   "cell_type": "code",
   "execution_count": 17,
   "metadata": {},
   "outputs": [],
   "source": [
    "# Eliminar las columnas que no serán utilizadas\n",
    "movies_df.drop(columns=['video', 'imdb_id', 'adult', 'original_title', 'poster_path', 'homepage'], inplace=True)"
   ]
  },
  {
   "cell_type": "code",
   "execution_count": 18,
   "metadata": {},
   "outputs": [
    {
     "name": "stdout",
     "output_type": "stream",
     "text": [
      "Index(['budget', 'id', 'original_language', 'overview', 'popularity',\n",
      "       'release_date', 'revenue', 'runtime', 'spoken_languages', 'status',\n",
      "       'tagline', 'title', 'vote_average', 'vote_count',\n",
      "       'belongs_to_collection_id', 'belongs_to_collection_name',\n",
      "       'belongs_to_collection_poster_path',\n",
      "       'belongs_to_collection_backdrop_path', 'genres_ids', 'genres_names',\n",
      "       'production_companies_ids', 'production_companies_names',\n",
      "       'production_countries_iso', 'production_countries_names',\n",
      "       'release_year', 'return'],\n",
      "      dtype='object')\n"
     ]
    }
   ],
   "source": [
    "# Verificación de los campos restantes\n",
    "print(movies_df.columns)"
   ]
  },
  {
   "cell_type": "markdown",
   "metadata": {},
   "source": [
    "Creando un nuevo CSV para los datos ya transformados"
   ]
  },
  {
   "cell_type": "code",
   "execution_count": 19,
   "metadata": {},
   "outputs": [],
   "source": [
    "# Guardar la última versión de movies_df en la carpeta final_data\n",
    "movies_df.to_csv('final_data/final_movies.csv', index=False)"
   ]
  }
 ],
 "metadata": {
  "kernelspec": {
   "display_name": "Python 3",
   "language": "python",
   "name": "python3"
  },
  "language_info": {
   "codemirror_mode": {
    "name": "ipython",
    "version": 3
   },
   "file_extension": ".py",
   "mimetype": "text/x-python",
   "name": "python",
   "nbconvert_exporter": "python",
   "pygments_lexer": "ipython3",
   "version": "3.12.2"
  }
 },
 "nbformat": 4,
 "nbformat_minor": 2
}
