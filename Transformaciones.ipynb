{
 "cells": [
  {
   "cell_type": "markdown",
   "metadata": {},
   "source": [
    "## Exploración de campos de los datos\n",
    "\n",
    "En este paso, cargaremos los archivos `credits.csv` y `movies_metadata.csv` (o cualquier otro nombre que tengan) y exploraremos los nombres de las columnas para identificar en qué archivo se encuentra cada campo.\n"
   ]
  },
  {
   "cell_type": "code",
   "execution_count": null,
   "metadata": {},
   "outputs": [],
   "source": [
    "import pandas as pd\n",
    "import ast\n",
    "\n",
    "# Cargar ambos archivos para ver sus columnas\n",
    "credits_df = pd.read_csv('DATA/credits_small.csv')\n",
    "movies_df = pd.read_csv('DATA/movies_dataset.csv')\n",
    "\n",
    "# Mostrar los nombres de las columnas\n",
    "print(*pd.read_csv('DATA/credits.csv').columns, sep=\"\\n\")\n",
    "print(\"\\n\")\n",
    "print(*pd.read_csv('DATA/movies_dataset.csv').columns, sep=\"\\n\")\n"
   ]
  },
  {
   "cell_type": "markdown",
   "metadata": {},
   "source": [
    "### Primera Transformación\n",
    "\n",
    "A. Desanidar Columnas con Estructura de Diccionario o Lista\n",
    "\n",
    "Paso 1: Desanidar belongs_to_collection"
   ]
  },
  {
   "cell_type": "code",
   "execution_count": 6,
   "metadata": {},
   "outputs": [],
   "source": [
    "# Desanidar `belongs_to_collection` en nuevas columnas\n",
    "movies_df['belongs_to_collection_id'] = movies_df['belongs_to_collection'].apply(\n",
    "    lambda x: ast.literal_eval(x).get('id') if pd.notna(x) and isinstance(x, str) and x.startswith('{') else None\n",
    ")\n",
    "movies_df['belongs_to_collection_name'] = movies_df['belongs_to_collection'].apply(\n",
    "    lambda x: ast.literal_eval(x).get('name') if pd.notna(x) and isinstance(x, str) and x.startswith('{') else None\n",
    ")\n",
    "movies_df['belongs_to_collection_poster_path'] = movies_df['belongs_to_collection'].apply(\n",
    "    lambda x: ast.literal_eval(x).get('poster_path') if pd.notna(x) and isinstance(x, str) and x.startswith('{') else None\n",
    ")\n",
    "movies_df['belongs_to_collection_backdrop_path'] = movies_df['belongs_to_collection'].apply(\n",
    "    lambda x: ast.literal_eval(x).get('backdrop_path') if pd.notna(x) and isinstance(x, str) and x.startswith('{') else None\n",
    ")\n",
    "\n",
    "# Eliminar la columna original\n",
    "movies_df.drop(columns=['belongs_to_collection'], inplace=True)"
   ]
  },
  {
   "cell_type": "markdown",
   "metadata": {},
   "source": [
    "Paso 2: Desanidar genres"
   ]
  },
  {
   "cell_type": "code",
   "execution_count": 7,
   "metadata": {},
   "outputs": [],
   "source": [
    "# Extraer nombres e ids de géneros en listas separadas\n",
    "movies_df['genres_ids'] = movies_df['genres'].apply(\n",
    "    lambda x: [i['id'] for i in ast.literal_eval(x) if isinstance(i, dict)] \n",
    "    if isinstance(x, str) and x.startswith('[') \n",
    "    else []\n",
    ")\n",
    "movies_df['genres_names'] = movies_df['genres'].apply(\n",
    "    lambda x: [i['name'] for i in ast.literal_eval(x) if isinstance(i, dict)] \n",
    "    if isinstance(x, str) and x.startswith('[') \n",
    "    else []\n",
    ")\n",
    "\n",
    "# Eliminar la columna original\n",
    "movies_df.drop(columns=['genres'], inplace=True)"
   ]
  },
  {
   "cell_type": "markdown",
   "metadata": {},
   "source": [
    "Paso 3: Desanidar production_companies"
   ]
  },
  {
   "cell_type": "code",
   "execution_count": 8,
   "metadata": {},
   "outputs": [],
   "source": [
    "# Extraer nombres e ids de compañías en listas separadas\n",
    "movies_df['production_companies_ids'] = movies_df['production_companies'].apply(\n",
    "    lambda x: [i['id'] for i in ast.literal_eval(x) if isinstance(i, dict)] \n",
    "    if isinstance(x, str) and x.startswith('[') \n",
    "    else []\n",
    ")\n",
    "movies_df['production_companies_names'] = movies_df['production_companies'].apply(\n",
    "    lambda x: [i['name'] for i in ast.literal_eval(x) if isinstance(i, dict)] \n",
    "    if isinstance(x, str) and x.startswith('[') \n",
    "    else []\n",
    ")\n",
    "\n",
    "# Eliminar la columna original\n",
    "movies_df.drop(columns=['production_companies'], inplace=True)"
   ]
  },
  {
   "cell_type": "markdown",
   "metadata": {},
   "source": [
    "Paso 4: Desanidar production_countries"
   ]
  },
  {
   "cell_type": "code",
   "execution_count": 9,
   "metadata": {},
   "outputs": [],
   "source": [
    "# Extraer códigos ISO y nombres de países en listas separadas\n",
    "movies_df['production_countries_iso'] = movies_df['production_countries'].apply(\n",
    "    lambda x: [i['iso_3166_1'] for i in ast.literal_eval(x) if isinstance(i, dict)] \n",
    "    if isinstance(x, str) and x.startswith('[') \n",
    "    else []\n",
    ")\n",
    "movies_df['production_countries_names'] = movies_df['production_countries'].apply(\n",
    "    lambda x: [i['name'] for i in ast.literal_eval(x) if isinstance(i, dict)] \n",
    "    if isinstance(x, str) and x.startswith('[') \n",
    "    else []\n",
    ")\n",
    "\n",
    "# Eliminar la columna original\n",
    "movies_df.drop(columns=['production_countries'], inplace=True)"
   ]
  },
  {
   "cell_type": "markdown",
   "metadata": {},
   "source": [
    "Paso 5: Verificación de Resultados"
   ]
  },
  {
   "cell_type": "code",
   "execution_count": 10,
   "metadata": {},
   "outputs": [
    {
     "name": "stdout",
     "output_type": "stream",
     "text": [
      "Index(['adult', 'budget', 'homepage', 'id', 'imdb_id', 'original_language',\n",
      "       'original_title', 'overview', 'popularity', 'poster_path',\n",
      "       'release_date', 'revenue', 'runtime', 'spoken_languages', 'status',\n",
      "       'tagline', 'title', 'video', 'vote_average', 'vote_count',\n",
      "       'belongs_to_collection_id', 'belongs_to_collection_name',\n",
      "       'belongs_to_collection_poster_path',\n",
      "       'belongs_to_collection_backdrop_path', 'genres_ids', 'genres_names',\n",
      "       'production_companies_ids', 'production_companies_names',\n",
      "       'production_countries_iso', 'production_countries_names'],\n",
      "      dtype='object')\n"
     ]
    }
   ],
   "source": [
    "print(movies_df.columns)"
   ]
  },
  {
   "cell_type": "markdown",
   "metadata": {},
   "source": [
    "### Segunda Transformación\n",
    "\n",
    "Rellenar valores nulos en los campos `revenue` y `budget`\n",
    "\n",
    "En este paso, se reemplazarán los valores nulos en los campos `revenue` y `budget` con el número `0`. Esto garantiza que estos campos numéricos no tengan valores faltantes, facilitando su uso en cálculos y análisis posteriores."
   ]
  },
  {
   "cell_type": "code",
   "execution_count": null,
   "metadata": {},
   "outputs": [],
   "source": [
    "# Rellenar valores nulos en `revenue` y `budget` con 0\n",
    "movies_df['revenue'].fillna(0, inplace=True)\n",
    "movies_df['budget'].fillna(0, inplace=True)"
   ]
  },
  {
   "cell_type": "markdown",
   "metadata": {},
   "source": [
    "### Tercera Transformación \n",
    "\n",
    "Eliminar valores nulos en el campo `release_date`\n",
    "\n",
    "En este paso, se eliminan todas las filas que tienen un valor nulo en el campo `release_date`. Esto asegura que todas las películas en el conjunto de datos tengan una fecha de lanzamiento, lo cual es importante para análisis basados en fechas."
   ]
  },
  {
   "cell_type": "code",
   "execution_count": 12,
   "metadata": {},
   "outputs": [],
   "source": [
    "# Eliminar filas con valores nulos en el campo `release_date`\n",
    "movies_df.dropna(subset=['release_date'], inplace=True)"
   ]
  },
  {
   "cell_type": "markdown",
   "metadata": {},
   "source": [
    "## Cuarta Transformación\n",
    "\n",
    "Fechas y extraer año de lanzamiento\n",
    "\n",
    "En este paso, las fechas en el campo `release_date` se convierten al formato estándar `AAAA-mm-dd` para una mayor consistencia. Además, se crea una nueva columna llamada `release_year`, que extrae el año de la fecha de estreno, facilitando los análisis que requieran información sobre el año de lanzamiento.\n"
   ]
  },
  {
   "cell_type": "code",
   "execution_count": 13,
   "metadata": {},
   "outputs": [],
   "source": [
    "# Convertir `release_date` al formato AAAA-mm-dd\n",
    "movies_df['release_date'] = pd.to_datetime(movies_df['release_date'], errors='coerce').dt.strftime('%Y-%m-%d')\n",
    "\n",
    "# Crear la columna `release_year` extrayendo el año de `release_date`\n",
    "movies_df['release_year'] = pd.to_datetime(movies_df['release_date'], errors='coerce').dt.year"
   ]
  },
  {
   "cell_type": "code",
   "execution_count": 14,
   "metadata": {},
   "outputs": [
    {
     "data": {
      "text/html": [
       "<div>\n",
       "<style scoped>\n",
       "    .dataframe tbody tr th:only-of-type {\n",
       "        vertical-align: middle;\n",
       "    }\n",
       "\n",
       "    .dataframe tbody tr th {\n",
       "        vertical-align: top;\n",
       "    }\n",
       "\n",
       "    .dataframe thead th {\n",
       "        text-align: right;\n",
       "    }\n",
       "</style>\n",
       "<table border=\"1\" class=\"dataframe\">\n",
       "  <thead>\n",
       "    <tr style=\"text-align: right;\">\n",
       "      <th></th>\n",
       "      <th>release_date</th>\n",
       "      <th>release_year</th>\n",
       "    </tr>\n",
       "  </thead>\n",
       "  <tbody>\n",
       "    <tr>\n",
       "      <th>0</th>\n",
       "      <td>1995-10-30</td>\n",
       "      <td>1995.0</td>\n",
       "    </tr>\n",
       "    <tr>\n",
       "      <th>1</th>\n",
       "      <td>1995-12-15</td>\n",
       "      <td>1995.0</td>\n",
       "    </tr>\n",
       "    <tr>\n",
       "      <th>2</th>\n",
       "      <td>1995-12-22</td>\n",
       "      <td>1995.0</td>\n",
       "    </tr>\n",
       "    <tr>\n",
       "      <th>3</th>\n",
       "      <td>1995-12-22</td>\n",
       "      <td>1995.0</td>\n",
       "    </tr>\n",
       "    <tr>\n",
       "      <th>4</th>\n",
       "      <td>1995-02-10</td>\n",
       "      <td>1995.0</td>\n",
       "    </tr>\n",
       "    <tr>\n",
       "      <th>...</th>\n",
       "      <td>...</td>\n",
       "      <td>...</td>\n",
       "    </tr>\n",
       "    <tr>\n",
       "      <th>45460</th>\n",
       "      <td>1991-05-13</td>\n",
       "      <td>1991.0</td>\n",
       "    </tr>\n",
       "    <tr>\n",
       "      <th>45462</th>\n",
       "      <td>2011-11-17</td>\n",
       "      <td>2011.0</td>\n",
       "    </tr>\n",
       "    <tr>\n",
       "      <th>45463</th>\n",
       "      <td>2003-08-01</td>\n",
       "      <td>2003.0</td>\n",
       "    </tr>\n",
       "    <tr>\n",
       "      <th>45464</th>\n",
       "      <td>1917-10-21</td>\n",
       "      <td>1917.0</td>\n",
       "    </tr>\n",
       "    <tr>\n",
       "      <th>45465</th>\n",
       "      <td>2017-06-09</td>\n",
       "      <td>2017.0</td>\n",
       "    </tr>\n",
       "  </tbody>\n",
       "</table>\n",
       "<p>45379 rows × 2 columns</p>\n",
       "</div>"
      ],
      "text/plain": [
       "      release_date  release_year\n",
       "0       1995-10-30        1995.0\n",
       "1       1995-12-15        1995.0\n",
       "2       1995-12-22        1995.0\n",
       "3       1995-12-22        1995.0\n",
       "4       1995-02-10        1995.0\n",
       "...            ...           ...\n",
       "45460   1991-05-13        1991.0\n",
       "45462   2011-11-17        2011.0\n",
       "45463   2003-08-01        2003.0\n",
       "45464   1917-10-21        1917.0\n",
       "45465   2017-06-09        2017.0\n",
       "\n",
       "[45379 rows x 2 columns]"
      ]
     },
     "execution_count": 14,
     "metadata": {},
     "output_type": "execute_result"
    }
   ],
   "source": [
    "# Ver los primeros valores de las columnas 'release_date', 'release_year' para verificarlos\n",
    "movies_df[['release_date', 'release_year']]"
   ]
  },
  {
   "cell_type": "markdown",
   "metadata": {},
   "source": [
    "## Quinta Transformación\n",
    "\n",
    "Calcular el Retorno de Inversión (ROI)\n",
    "\n",
    "En este paso, se crea una nueva columna llamada `return`, que representa el retorno de inversión de cada película. Este valor se calcula dividiendo el campo `revenue` entre `budget`. Si `budget` es igual a 0, el valor \n"
   ]
  },
  {
   "cell_type": "code",
   "execution_count": 15,
   "metadata": {},
   "outputs": [],
   "source": [
    "# Convertir las columnas `revenue` y `budget` a tipo numérico, reemplazando valores no convertibles por 0\n",
    "movies_df['revenue'] = pd.to_numeric(movies_df['revenue'], errors='coerce').fillna(0)\n",
    "movies_df['budget'] = pd.to_numeric(movies_df['budget'], errors='coerce').fillna(0)\n",
    "\n",
    "# Crear la columna `return` calculando el retorno de inversión (revenue / budget)\n",
    "movies_df['return'] = movies_df.apply(lambda row: row['revenue'] / row['budget'] if row['budget'] != 0 else 0, axis=1)"
   ]
  },
  {
   "cell_type": "code",
   "execution_count": 16,
   "metadata": {},
   "outputs": [
    {
     "data": {
      "text/html": [
       "<div>\n",
       "<style scoped>\n",
       "    .dataframe tbody tr th:only-of-type {\n",
       "        vertical-align: middle;\n",
       "    }\n",
       "\n",
       "    .dataframe tbody tr th {\n",
       "        vertical-align: top;\n",
       "    }\n",
       "\n",
       "    .dataframe thead th {\n",
       "        text-align: right;\n",
       "    }\n",
       "</style>\n",
       "<table border=\"1\" class=\"dataframe\">\n",
       "  <thead>\n",
       "    <tr style=\"text-align: right;\">\n",
       "      <th></th>\n",
       "      <th>revenue</th>\n",
       "      <th>budget</th>\n",
       "      <th>return</th>\n",
       "    </tr>\n",
       "  </thead>\n",
       "  <tbody>\n",
       "    <tr>\n",
       "      <th>0</th>\n",
       "      <td>373554033.0</td>\n",
       "      <td>30000000.0</td>\n",
       "      <td>12.451801</td>\n",
       "    </tr>\n",
       "    <tr>\n",
       "      <th>1</th>\n",
       "      <td>262797249.0</td>\n",
       "      <td>65000000.0</td>\n",
       "      <td>4.043035</td>\n",
       "    </tr>\n",
       "    <tr>\n",
       "      <th>2</th>\n",
       "      <td>0.0</td>\n",
       "      <td>0.0</td>\n",
       "      <td>0.000000</td>\n",
       "    </tr>\n",
       "    <tr>\n",
       "      <th>3</th>\n",
       "      <td>81452156.0</td>\n",
       "      <td>16000000.0</td>\n",
       "      <td>5.090760</td>\n",
       "    </tr>\n",
       "    <tr>\n",
       "      <th>4</th>\n",
       "      <td>76578911.0</td>\n",
       "      <td>0.0</td>\n",
       "      <td>0.000000</td>\n",
       "    </tr>\n",
       "    <tr>\n",
       "      <th>...</th>\n",
       "      <td>...</td>\n",
       "      <td>...</td>\n",
       "      <td>...</td>\n",
       "    </tr>\n",
       "    <tr>\n",
       "      <th>45460</th>\n",
       "      <td>0.0</td>\n",
       "      <td>0.0</td>\n",
       "      <td>0.000000</td>\n",
       "    </tr>\n",
       "    <tr>\n",
       "      <th>45462</th>\n",
       "      <td>0.0</td>\n",
       "      <td>0.0</td>\n",
       "      <td>0.000000</td>\n",
       "    </tr>\n",
       "    <tr>\n",
       "      <th>45463</th>\n",
       "      <td>0.0</td>\n",
       "      <td>0.0</td>\n",
       "      <td>0.000000</td>\n",
       "    </tr>\n",
       "    <tr>\n",
       "      <th>45464</th>\n",
       "      <td>0.0</td>\n",
       "      <td>0.0</td>\n",
       "      <td>0.000000</td>\n",
       "    </tr>\n",
       "    <tr>\n",
       "      <th>45465</th>\n",
       "      <td>0.0</td>\n",
       "      <td>0.0</td>\n",
       "      <td>0.000000</td>\n",
       "    </tr>\n",
       "  </tbody>\n",
       "</table>\n",
       "<p>45379 rows × 3 columns</p>\n",
       "</div>"
      ],
      "text/plain": [
       "           revenue      budget     return\n",
       "0      373554033.0  30000000.0  12.451801\n",
       "1      262797249.0  65000000.0   4.043035\n",
       "2              0.0         0.0   0.000000\n",
       "3       81452156.0  16000000.0   5.090760\n",
       "4       76578911.0         0.0   0.000000\n",
       "...            ...         ...        ...\n",
       "45460          0.0         0.0   0.000000\n",
       "45462          0.0         0.0   0.000000\n",
       "45463          0.0         0.0   0.000000\n",
       "45464          0.0         0.0   0.000000\n",
       "45465          0.0         0.0   0.000000\n",
       "\n",
       "[45379 rows x 3 columns]"
      ]
     },
     "execution_count": 16,
     "metadata": {},
     "output_type": "execute_result"
    }
   ],
   "source": [
    "# Ver los primeros valores de las columnas `revenue`, `budget` y `return` para verificarlos\n",
    "movies_df[['revenue', 'budget', 'return']]"
   ]
  },
  {
   "cell_type": "markdown",
   "metadata": {},
   "source": [
    "## Sexta Transformación\n",
    "\n",
    "Eliminar columnas no utilizadas\n",
    "\n",
    "En este paso, se eliminan las columnas que no serán utilizadas en el análisis: `video`, `imdb_id`, `adult`, `original_title`, `poster_path`, y `homepage`. Esto simplifica el conjunto de datos, manteniendo solo las columnas relevantes para el análisis.\n"
   ]
  },
  {
   "cell_type": "code",
   "execution_count": 17,
   "metadata": {},
   "outputs": [],
   "source": [
    "# Eliminar las columnas que no serán utilizadas\n",
    "movies_df.drop(columns=['video', 'imdb_id', 'adult', 'original_title', 'poster_path', 'homepage'], inplace=True)"
   ]
  },
  {
   "cell_type": "code",
   "execution_count": 18,
   "metadata": {},
   "outputs": [
    {
     "name": "stdout",
     "output_type": "stream",
     "text": [
      "Index(['budget', 'id', 'original_language', 'overview', 'popularity',\n",
      "       'release_date', 'revenue', 'runtime', 'spoken_languages', 'status',\n",
      "       'tagline', 'title', 'vote_average', 'vote_count',\n",
      "       'belongs_to_collection_id', 'belongs_to_collection_name',\n",
      "       'belongs_to_collection_poster_path',\n",
      "       'belongs_to_collection_backdrop_path', 'genres_ids', 'genres_names',\n",
      "       'production_companies_ids', 'production_companies_names',\n",
      "       'production_countries_iso', 'production_countries_names',\n",
      "       'release_year', 'return'],\n",
      "      dtype='object')\n"
     ]
    }
   ],
   "source": [
    "# Verificación de los campos restantes\n",
    "print(movies_df.columns)"
   ]
  },
  {
   "cell_type": "markdown",
   "metadata": {},
   "source": [
    "Creando un nuevo CSV para los datos ya transformados"
   ]
  },
  {
   "cell_type": "code",
   "execution_count": null,
   "metadata": {},
   "outputs": [],
   "source": [
    "# Guardar la última versión de movies_df en la carpeta final_data. Código comentado por seguridad. quitar el '#' cuando sea necesario.\n",
    "# movies_df.to_csv('final_data/final_movies.csv', index=False)"
   ]
  },
  {
   "cell_type": "markdown",
   "metadata": {},
   "source": [
    "## Desanidando el archivo `credits_small.csv`\n",
    "\n",
    "Este paso desanida las columnas `cast` y `crew` en el archivo `credits_small.csv`, las cuales contienen listas de diccionarios con detalles del elenco y equipo. Para cada lista, se crean nuevas columnas en el DataFrame:\n",
    "\n",
    "- **Para `cast`**:\n",
    "  - `cast_ids`: Lista con los IDs del elenco.\n",
    "  - `cast_names`: Lista con los nombres de los actores.\n",
    "  - `cast_characters`: Lista con los nombres de los personajes interpretados.\n",
    "\n",
    "- **Para `crew`**:\n",
    "  - `crew_ids`: Lista con los IDs del equipo.\n",
    "  - `crew_names`: Lista con los nombres de los miembros del equipo.\n",
    "  - `crew_jobs`: Lista con los roles desempeñados.\n",
    "  - `crew_departments`: Lista con los departamentos a los que pertenecen."
   ]
  },
  {
   "cell_type": "code",
   "execution_count": 2,
   "metadata": {},
   "outputs": [],
   "source": [
    "# Eliminar filas que tengan valores nulos en cualquier columna\n",
    "credits_df.dropna(inplace=True)"
   ]
  },
  {
   "cell_type": "code",
   "execution_count": 4,
   "metadata": {},
   "outputs": [],
   "source": [
    "# Convertir `cast` y `crew` de strings a listas de diccionarios\n",
    "credits_df['cast'] = credits_df['cast'].apply(lambda x: ast.literal_eval(x) if pd.notna(x) else [])\n",
    "credits_df['crew'] = credits_df['crew'].apply(lambda x: ast.literal_eval(x) if pd.notna(x) else [])\n",
    "\n",
    "# Desanidar `cast` creando columnas separadas para `cast_id`, `cast_name`, `cast_character`\n",
    "credits_df['cast_ids'] = credits_df['cast'].apply(lambda x: [actor.get('cast_id') for actor in x])\n",
    "credits_df['cast_names'] = credits_df['cast'].apply(lambda x: [actor.get('name') for actor in x])\n",
    "credits_df['cast_characters'] = credits_df['cast'].apply(lambda x: [actor.get('character') for actor in x])\n",
    "\n",
    "# Desanidar `crew` creando columnas separadas para `crew_id`, `crew_name`, `crew_job`, `crew_department`\n",
    "credits_df['crew_ids'] = credits_df['crew'].apply(lambda x: [member.get('id') for member in x])\n",
    "credits_df['crew_names'] = credits_df['crew'].apply(lambda x: [member.get('name') for member in x])\n",
    "credits_df['crew_jobs'] = credits_df['crew'].apply(lambda x: [member.get('job') for member in x])\n",
    "credits_df['crew_departments'] = credits_df['crew'].apply(lambda x: [member.get('department') for member in x])\n",
    "\n",
    "# Eliminar las columnas originales `cast` y `crew`\n",
    "credits_df.drop(columns=['cast', 'crew'], inplace=True)"
   ]
  },
  {
   "cell_type": "code",
   "execution_count": 5,
   "metadata": {},
   "outputs": [
    {
     "data": {
      "text/html": [
       "<div>\n",
       "<style scoped>\n",
       "    .dataframe tbody tr th:only-of-type {\n",
       "        vertical-align: middle;\n",
       "    }\n",
       "\n",
       "    .dataframe tbody tr th {\n",
       "        vertical-align: top;\n",
       "    }\n",
       "\n",
       "    .dataframe thead th {\n",
       "        text-align: right;\n",
       "    }\n",
       "</style>\n",
       "<table border=\"1\" class=\"dataframe\">\n",
       "  <thead>\n",
       "    <tr style=\"text-align: right;\">\n",
       "      <th></th>\n",
       "      <th>id</th>\n",
       "      <th>cast_ids</th>\n",
       "      <th>cast_names</th>\n",
       "      <th>cast_characters</th>\n",
       "      <th>crew_ids</th>\n",
       "      <th>crew_names</th>\n",
       "      <th>crew_jobs</th>\n",
       "      <th>crew_departments</th>\n",
       "    </tr>\n",
       "  </thead>\n",
       "  <tbody>\n",
       "    <tr>\n",
       "      <th>0</th>\n",
       "      <td>41366</td>\n",
       "      <td>[4, 5, 6, 7]</td>\n",
       "      <td>[Rutger Hauer, Andrew McCarthy, Tara Fitzgeral...</td>\n",
       "      <td>[David Marx, Kurt Bishop, Kris Paddock, Mark O...</td>\n",
       "      <td>[7415, 15244, 20777, 43673, 38309, 55409, 1796...</td>\n",
       "      <td>[Rick Montgomery, Ehren Kruger, Humphrey Bangh...</td>\n",
       "      <td>[Casting, Writer, Production Design, Producer,...</td>\n",
       "      <td>[Production, Writing, Art, Production, Sound, ...</td>\n",
       "    </tr>\n",
       "    <tr>\n",
       "      <th>1</th>\n",
       "      <td>460846</td>\n",
       "      <td>[1, 0, 2, 4, 5, 6, 7, 8, 9, 10, 11, 12, 13, 14...</td>\n",
       "      <td>[Antonio Banderas, Ben Kingsley, Liam McIntyre...</td>\n",
       "      <td>[Eduardo 'Eddie' Deacon, Charlie, Vance, Mason...</td>\n",
       "      <td>[190103, 1475225, 119561, 1797938, 1409852, 18...</td>\n",
       "      <td>[Alain Desrochers, Tony Mosher, John Sullivan,...</td>\n",
       "      <td>[Director, Writer, Screenplay, Co-Producer, Pr...</td>\n",
       "      <td>[Directing, Writing, Writing, Production, Prod...</td>\n",
       "    </tr>\n",
       "    <tr>\n",
       "      <th>2</th>\n",
       "      <td>143</td>\n",
       "      <td>[9, 10, 11, 12, 13, 14, 15, 16, 17, 38, 39, 40...</td>\n",
       "      <td>[Lew Ayres, Arnold Lucy, John Wray, Louis Wolh...</td>\n",
       "      <td>[Paul, Kantorek, Himmelstoss, Stanislas \"Kat\" ...</td>\n",
       "      <td>[2000, 2001, 2003, 2004, 1557, 2005, 2006, 208...</td>\n",
       "      <td>[Lewis Milestone, Erich Maria Remarque, Del An...</td>\n",
       "      <td>[Director, Novel, Adaptation, Screenplay, Prod...</td>\n",
       "      <td>[Directing, Writing, Writing, Writing, Product...</td>\n",
       "    </tr>\n",
       "    <tr>\n",
       "      <th>3</th>\n",
       "      <td>55823</td>\n",
       "      <td>[2, 3, 4, 5, 6, 7, 8, 9]</td>\n",
       "      <td>[Alberto Sordi, Vittorio Gassman, Silvana Mang...</td>\n",
       "      <td>[Oreste Jacovacci, Giovanni Busacca, Costantin...</td>\n",
       "      <td>[3098, 5398, 5681, 5810, 5811, 5812, 9247, 142...</td>\n",
       "      <td>[Nino Rota, Dino De Laurentiis, Piero Gherardi...</td>\n",
       "      <td>[Music, Producer, Costume Design, Story, Write...</td>\n",
       "      <td>[Sound, Production, Costume &amp; Make-Up, Writing...</td>\n",
       "    </tr>\n",
       "    <tr>\n",
       "      <th>4</th>\n",
       "      <td>38414</td>\n",
       "      <td>[1, 2, 3, 4, 5, 6, 7, 8, 9, 14]</td>\n",
       "      <td>[Marie Gillain, Olivier Sitruk, Bruno Putzulu,...</td>\n",
       "      <td>[Nathalie, Eric, Bruno, Alain, Antoine, Karine...</td>\n",
       "      <td>[20556, 1347177, 20556, 133050]</td>\n",
       "      <td>[Bertrand Tavernier, Morgan Sportes, Bertrand ...</td>\n",
       "      <td>[Director, Writer, Writer, Writer]</td>\n",
       "      <td>[Directing, Writing, Writing, Writing]</td>\n",
       "    </tr>\n",
       "  </tbody>\n",
       "</table>\n",
       "</div>"
      ],
      "text/plain": [
       "       id                                           cast_ids  \\\n",
       "0   41366                                       [4, 5, 6, 7]   \n",
       "1  460846  [1, 0, 2, 4, 5, 6, 7, 8, 9, 10, 11, 12, 13, 14...   \n",
       "2     143  [9, 10, 11, 12, 13, 14, 15, 16, 17, 38, 39, 40...   \n",
       "3   55823                           [2, 3, 4, 5, 6, 7, 8, 9]   \n",
       "4   38414                    [1, 2, 3, 4, 5, 6, 7, 8, 9, 14]   \n",
       "\n",
       "                                          cast_names  \\\n",
       "0  [Rutger Hauer, Andrew McCarthy, Tara Fitzgeral...   \n",
       "1  [Antonio Banderas, Ben Kingsley, Liam McIntyre...   \n",
       "2  [Lew Ayres, Arnold Lucy, John Wray, Louis Wolh...   \n",
       "3  [Alberto Sordi, Vittorio Gassman, Silvana Mang...   \n",
       "4  [Marie Gillain, Olivier Sitruk, Bruno Putzulu,...   \n",
       "\n",
       "                                     cast_characters  \\\n",
       "0  [David Marx, Kurt Bishop, Kris Paddock, Mark O...   \n",
       "1  [Eduardo 'Eddie' Deacon, Charlie, Vance, Mason...   \n",
       "2  [Paul, Kantorek, Himmelstoss, Stanislas \"Kat\" ...   \n",
       "3  [Oreste Jacovacci, Giovanni Busacca, Costantin...   \n",
       "4  [Nathalie, Eric, Bruno, Alain, Antoine, Karine...   \n",
       "\n",
       "                                            crew_ids  \\\n",
       "0  [7415, 15244, 20777, 43673, 38309, 55409, 1796...   \n",
       "1  [190103, 1475225, 119561, 1797938, 1409852, 18...   \n",
       "2  [2000, 2001, 2003, 2004, 1557, 2005, 2006, 208...   \n",
       "3  [3098, 5398, 5681, 5810, 5811, 5812, 9247, 142...   \n",
       "4                    [20556, 1347177, 20556, 133050]   \n",
       "\n",
       "                                          crew_names  \\\n",
       "0  [Rick Montgomery, Ehren Kruger, Humphrey Bangh...   \n",
       "1  [Alain Desrochers, Tony Mosher, John Sullivan,...   \n",
       "2  [Lewis Milestone, Erich Maria Remarque, Del An...   \n",
       "3  [Nino Rota, Dino De Laurentiis, Piero Gherardi...   \n",
       "4  [Bertrand Tavernier, Morgan Sportes, Bertrand ...   \n",
       "\n",
       "                                           crew_jobs  \\\n",
       "0  [Casting, Writer, Production Design, Producer,...   \n",
       "1  [Director, Writer, Screenplay, Co-Producer, Pr...   \n",
       "2  [Director, Novel, Adaptation, Screenplay, Prod...   \n",
       "3  [Music, Producer, Costume Design, Story, Write...   \n",
       "4                 [Director, Writer, Writer, Writer]   \n",
       "\n",
       "                                    crew_departments  \n",
       "0  [Production, Writing, Art, Production, Sound, ...  \n",
       "1  [Directing, Writing, Writing, Production, Prod...  \n",
       "2  [Directing, Writing, Writing, Writing, Product...  \n",
       "3  [Sound, Production, Costume & Make-Up, Writing...  \n",
       "4             [Directing, Writing, Writing, Writing]  "
      ]
     },
     "execution_count": 5,
     "metadata": {},
     "output_type": "execute_result"
    }
   ],
   "source": [
    "credits_df.head()"
   ]
  },
  {
   "cell_type": "markdown",
   "metadata": {},
   "source": [
    "Creando un nuevo CSV para los datos ya transformados"
   ]
  },
  {
   "cell_type": "code",
   "execution_count": null,
   "metadata": {},
   "outputs": [],
   "source": [
    "# Guardar la última versión de movies_df en la carpeta final_data. Código comentado por seguridad. quitar el '#' cuando sea necesario.\n",
    "# credits_df.to_csv('final_data/final_credits.csv', index=False)"
   ]
  }
 ],
 "metadata": {
  "kernelspec": {
   "display_name": "Python 3",
   "language": "python",
   "name": "python3"
  },
  "language_info": {
   "codemirror_mode": {
    "name": "ipython",
    "version": 3
   },
   "file_extension": ".py",
   "mimetype": "text/x-python",
   "name": "python",
   "nbconvert_exporter": "python",
   "pygments_lexer": "ipython3",
   "version": "3.12.2"
  }
 },
 "nbformat": 4,
 "nbformat_minor": 2
}
